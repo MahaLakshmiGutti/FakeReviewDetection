{
 "cells": [
  {
   "cell_type": "code",
   "execution_count": 1,
   "metadata": {
    "id": "Z0rOChrexeoB"
   },
   "outputs": [],
   "source": [
    "from tensorflow.keras.layers import Embedding, SimpleRNN, Dense, Flatten, Dropout,LSTM, GRU, Bidirectional,Input,Concatenate\n",
    "from sklearn.metrics import classification_report, confusion_matrix, ConfusionMatrixDisplay\n",
    "from tensorflow.keras.preprocessing.sequence import pad_sequences\n",
    "from tensorflow.keras.preprocessing.text import one_hot\n",
    "from tensorflow.keras.callbacks import EarlyStopping\n",
    "from sklearn.model_selection import train_test_split\n",
    "from tensorflow.keras.utils import to_categorical\n",
    "from sklearn.preprocessing import MinMaxScaler\n",
    "from tensorflow.keras.models import Model\n",
    "import matplotlib.pyplot as plt\n",
    "import tensorflow as tf\n",
    "import pandas as pd\n",
    "import numpy as np\n",
    "np.random.seed(42)"
   ]
  },
  {
   "cell_type": "code",
   "execution_count": 5,
   "metadata": {
    "id": "9OwPNCbi3d3q"
   },
   "outputs": [],
   "source": [
    "df=pd.read_csv(\"text_preprocessed.csv\")"
   ]
  },
  {
   "cell_type": "code",
   "execution_count": 6,
   "metadata": {
    "colab": {
     "base_uri": "https://localhost:8080/",
     "height": 556
    },
    "id": "oMTotqWPxjF8",
    "outputId": "d83ff996-e111-4d67-9b5b-a7458640834f"
   },
   "outputs": [
    {
     "data": {
      "text/html": [
       "<div>\n",
       "<style scoped>\n",
       "    .dataframe tbody tr th:only-of-type {\n",
       "        vertical-align: middle;\n",
       "    }\n",
       "\n",
       "    .dataframe tbody tr th {\n",
       "        vertical-align: top;\n",
       "    }\n",
       "\n",
       "    .dataframe thead th {\n",
       "        text-align: right;\n",
       "    }\n",
       "</style>\n",
       "<table border=\"1\" class=\"dataframe\">\n",
       "  <thead>\n",
       "    <tr style=\"text-align: right;\">\n",
       "      <th></th>\n",
       "      <th>Unnamed: 0.1</th>\n",
       "      <th>Unnamed: 0</th>\n",
       "      <th>LABEL</th>\n",
       "      <th>Category_Label</th>\n",
       "      <th>CLEANED_PRODUCT_TITLE</th>\n",
       "      <th>CLEANED_TITLE</th>\n",
       "      <th>CLEANED_TEXT</th>\n",
       "      <th>RATING</th>\n",
       "      <th>VERIFIED_PURCHASE</th>\n",
       "      <th>REVIEW_LENGTH</th>\n",
       "      <th>NUM_PUNCTUATIONS</th>\n",
       "      <th>CAPS_COUNT</th>\n",
       "      <th>stopwords_count</th>\n",
       "      <th>characters_count</th>\n",
       "      <th>matchesPTITLE</th>\n",
       "    </tr>\n",
       "  </thead>\n",
       "  <tbody>\n",
       "    <tr>\n",
       "      <th>0</th>\n",
       "      <td>0</td>\n",
       "      <td>0</td>\n",
       "      <td>1</td>\n",
       "      <td>20</td>\n",
       "      <td>targus pauk u ultra mini usb keypad black</td>\n",
       "      <td>useful</td>\n",
       "      <td>least think save day keep around case need som...</td>\n",
       "      <td>4</td>\n",
       "      <td>0</td>\n",
       "      <td>116</td>\n",
       "      <td>3</td>\n",
       "      <td>2</td>\n",
       "      <td>10</td>\n",
       "      <td>91</td>\n",
       "      <td>7</td>\n",
       "    </tr>\n",
       "    <tr>\n",
       "      <th>1</th>\n",
       "      <td>1</td>\n",
       "      <td>1</td>\n",
       "      <td>1</td>\n",
       "      <td>29</td>\n",
       "      <td>note battery stalion strength replacement mah ...</td>\n",
       "      <td>new era battery</td>\n",
       "      <td>lithium battery something new introduce market...</td>\n",
       "      <td>4</td>\n",
       "      <td>1</td>\n",
       "      <td>404</td>\n",
       "      <td>7</td>\n",
       "      <td>4</td>\n",
       "      <td>28</td>\n",
       "      <td>329</td>\n",
       "      <td>24</td>\n",
       "    </tr>\n",
       "    <tr>\n",
       "      <th>2</th>\n",
       "      <td>2</td>\n",
       "      <td>2</td>\n",
       "      <td>1</td>\n",
       "      <td>2</td>\n",
       "      <td>fisher price papasan cradle swing starlight</td>\n",
       "      <td>swing well</td>\n",
       "      <td>purchase swing baby month pretty much grown lo...</td>\n",
       "      <td>3</td>\n",
       "      <td>0</td>\n",
       "      <td>248</td>\n",
       "      <td>8</td>\n",
       "      <td>6</td>\n",
       "      <td>25</td>\n",
       "      <td>188</td>\n",
       "      <td>5</td>\n",
       "    </tr>\n",
       "    <tr>\n",
       "      <th>3</th>\n",
       "      <td>3</td>\n",
       "      <td>3</td>\n",
       "      <td>1</td>\n",
       "      <td>18</td>\n",
       "      <td>casio m b standard function desktop calculator</td>\n",
       "      <td>great compute</td>\n",
       "      <td>look inexpensive desk calcolatur work everythi...</td>\n",
       "      <td>4</td>\n",
       "      <td>0</td>\n",
       "      <td>212</td>\n",
       "      <td>4</td>\n",
       "      <td>6</td>\n",
       "      <td>18</td>\n",
       "      <td>165</td>\n",
       "      <td>6</td>\n",
       "    </tr>\n",
       "    <tr>\n",
       "      <th>4</th>\n",
       "      <td>4</td>\n",
       "      <td>4</td>\n",
       "      <td>1</td>\n",
       "      <td>3</td>\n",
       "      <td>shine whiten zero peroxide teeth whiten system...</td>\n",
       "      <td>twice week</td>\n",
       "      <td>twice week result great use teeth whiten solut...</td>\n",
       "      <td>4</td>\n",
       "      <td>0</td>\n",
       "      <td>331</td>\n",
       "      <td>6</td>\n",
       "      <td>4</td>\n",
       "      <td>34</td>\n",
       "      <td>260</td>\n",
       "      <td>11</td>\n",
       "    </tr>\n",
       "  </tbody>\n",
       "</table>\n",
       "</div>"
      ],
      "text/plain": [
       "   Unnamed: 0.1  Unnamed: 0  LABEL  Category_Label  \\\n",
       "0             0           0      1              20   \n",
       "1             1           1      1              29   \n",
       "2             2           2      1               2   \n",
       "3             3           3      1              18   \n",
       "4             4           4      1               3   \n",
       "\n",
       "                               CLEANED_PRODUCT_TITLE    CLEANED_TITLE  \\\n",
       "0          targus pauk u ultra mini usb keypad black           useful   \n",
       "1  note battery stalion strength replacement mah ...  new era battery   \n",
       "2        fisher price papasan cradle swing starlight       swing well   \n",
       "3     casio m b standard function desktop calculator    great compute   \n",
       "4  shine whiten zero peroxide teeth whiten system...       twice week   \n",
       "\n",
       "                                        CLEANED_TEXT  RATING  \\\n",
       "0  least think save day keep around case need som...       4   \n",
       "1  lithium battery something new introduce market...       4   \n",
       "2  purchase swing baby month pretty much grown lo...       3   \n",
       "3  look inexpensive desk calcolatur work everythi...       4   \n",
       "4  twice week result great use teeth whiten solut...       4   \n",
       "\n",
       "   VERIFIED_PURCHASE  REVIEW_LENGTH  NUM_PUNCTUATIONS  CAPS_COUNT  \\\n",
       "0                  0            116                 3           2   \n",
       "1                  1            404                 7           4   \n",
       "2                  0            248                 8           6   \n",
       "3                  0            212                 4           6   \n",
       "4                  0            331                 6           4   \n",
       "\n",
       "   stopwords_count  characters_count  matchesPTITLE  \n",
       "0               10                91              7  \n",
       "1               28               329             24  \n",
       "2               25               188              5  \n",
       "3               18               165              6  \n",
       "4               34               260             11  "
      ]
     },
     "execution_count": 6,
     "metadata": {},
     "output_type": "execute_result"
    }
   ],
   "source": [
    "df.head()"
   ]
  },
  {
   "cell_type": "code",
   "execution_count": 7,
   "metadata": {
    "colab": {
     "base_uri": "https://localhost:8080/"
    },
    "id": "rO_wGtRGzw_Q",
    "outputId": "5a2c9be2-ad0e-4ce2-aa14-313c32e7ae25"
   },
   "outputs": [
    {
     "name": "stdout",
     "output_type": "stream",
     "text": [
      "<class 'pandas.core.frame.DataFrame'>\n",
      "RangeIndex: 20924 entries, 0 to 20923\n",
      "Data columns (total 15 columns):\n",
      " #   Column                 Non-Null Count  Dtype \n",
      "---  ------                 --------------  ----- \n",
      " 0   Unnamed: 0.1           20924 non-null  int64 \n",
      " 1   Unnamed: 0             20924 non-null  int64 \n",
      " 2   LABEL                  20924 non-null  int64 \n",
      " 3   Category_Label         20924 non-null  int64 \n",
      " 4   CLEANED_PRODUCT_TITLE  20924 non-null  object\n",
      " 5   CLEANED_TITLE          20924 non-null  object\n",
      " 6   CLEANED_TEXT           20924 non-null  object\n",
      " 7   RATING                 20924 non-null  int64 \n",
      " 8   VERIFIED_PURCHASE      20924 non-null  int64 \n",
      " 9   REVIEW_LENGTH          20924 non-null  int64 \n",
      " 10  NUM_PUNCTUATIONS       20924 non-null  int64 \n",
      " 11  CAPS_COUNT             20924 non-null  int64 \n",
      " 12  stopwords_count        20924 non-null  int64 \n",
      " 13  characters_count       20924 non-null  int64 \n",
      " 14  matchesPTITLE          20924 non-null  int64 \n",
      "dtypes: int64(12), object(3)\n",
      "memory usage: 2.4+ MB\n"
     ]
    }
   ],
   "source": [
    "df.info()"
   ]
  },
  {
   "cell_type": "code",
   "execution_count": 8,
   "metadata": {
    "id": "nxZZYSBT6J-B"
   },
   "outputs": [],
   "source": [
    "df.drop(columns=['Unnamed: 0'],inplace=True)"
   ]
  },
  {
   "cell_type": "code",
   "execution_count": 9,
   "metadata": {
    "colab": {
     "base_uri": "https://localhost:8080/"
    },
    "id": "02AsKIZ1xqjY",
    "outputId": "f860d949-984d-404c-b83e-07e1d43b5065"
   },
   "outputs": [
    {
     "name": "stdout",
     "output_type": "stream",
     "text": [
      "Number of unique words: 36534\n",
      "Max sequence length (95th percentile): 107\n"
     ]
    }
   ],
   "source": [
    "unique_words = set()\n",
    "for column in ['CLEANED_PRODUCT_TITLE', 'CLEANED_TITLE', 'CLEANED_TEXT']:\n",
    "    unique_words.update(df[column].str.split().explode())\n",
    "\n",
    "voc_size = len(unique_words)\n",
    "print(f\"Number of unique words: {voc_size}\")\n",
    "df['combined_reviews'] = df['CLEANED_PRODUCT_TITLE'] + ' ' + df['CLEANED_TITLE'] + ' ' + df['CLEANED_TEXT']\n",
    "df['review_length'] = df['combined_reviews'].str.split().str.len()\n",
    "maxlen = int(df['review_length'].quantile(0.95))\n",
    "print(f\"Max sequence length (95th percentile): {maxlen}\")\n"
   ]
  },
  {
   "cell_type": "code",
   "execution_count": 9,
   "metadata": {
    "id": "M2yKTAz041hC"
   },
   "outputs": [],
   "source": [
    "voc_size=36534\n",
    "max_length=107\n",
    "epoch=30\n",
    "batch_size=64"
   ]
  },
  {
   "cell_type": "code",
   "execution_count": 10,
   "metadata": {
    "id": "zBgXeEgG5PUo"
   },
   "outputs": [],
   "source": [
    "df['combined_reviews'] = df['CLEANED_PRODUCT_TITLE'] + ' ' + df['CLEANED_TITLE'] + ' ' + df['CLEANED_TEXT']"
   ]
  },
  {
   "cell_type": "code",
   "execution_count": 11,
   "metadata": {
    "id": "VeO40Ft-znHv"
   },
   "outputs": [],
   "source": [
    "from tensorflow.keras.preprocessing.text import Tokenizer\n",
    "tokenizer = Tokenizer(num_words=voc_size)\n",
    "tokenizer.fit_on_texts(df['combined_reviews'])\n",
    "sequences = tokenizer.texts_to_sequences(df['combined_reviews'])\n",
    "word_index = tokenizer.word_index"
   ]
  },
  {
   "cell_type": "code",
   "execution_count": 12,
   "metadata": {
    "colab": {
     "base_uri": "https://localhost:8080/"
    },
    "id": "5VzigF1a4yiE",
    "outputId": "169265c8-a47e-4546-fb7f-c87489e681b9"
   },
   "outputs": [
    {
     "name": "stdout",
     "output_type": "stream",
     "text": [
      "[[ 7517 20520    92 ...     0     0     0]\n",
      " [  431    54  3055 ...     0     0     0]\n",
      " [ 2163    16 20521 ...     0     0     0]\n",
      " ...\n",
      " [15063   105   132 ...     0     0     0]\n",
      " [20493   130 36494 ...     0     0     0]\n",
      " [12074 20502   598 ...     0     0     0]]\n"
     ]
    }
   ],
   "source": [
    "embedded_docs=pad_sequences(sequences,padding='post',maxlen=max_length)\n",
    "print(embedded_docs)"
   ]
  },
  {
   "cell_type": "code",
   "execution_count": 13,
   "metadata": {
    "id": "aRVCuT94zoNB"
   },
   "outputs": [],
   "source": [
    "from sklearn.preprocessing import  StandardScaler\n",
    "numeric_features = df[['RATING', 'VERIFIED_PURCHASE', 'REVIEW_LENGTH', 'NUM_PUNCTUATIONS',\n",
    "                       'CAPS_COUNT', 'stopwords_count', 'characters_count', 'matchesPTITLE']].values\n",
    "scaler = StandardScaler()\n",
    "numeric_data = scaler.fit_transform(numeric_features)\n",
    "numeric_data_shape = numeric_data.shape[1]\n",
    "X_train_text, X_test_text, X_train_numeric, X_test_numeric, y_train, y_test = train_test_split(\n",
    "    embedded_docs, numeric_data, df['LABEL'], test_size=0.2, random_state=42)"
   ]
  },
  {
   "cell_type": "code",
   "execution_count": 14,
   "metadata": {
    "id": "2waMRBMG4f44"
   },
   "outputs": [],
   "source": [
    "def simplernn(voc_size, max_length, numeric_input_shape):\n",
    "    text_input = Input(shape=(max_length,), name='text_input')\n",
    "    embedding_layer = Embedding(input_dim=voc_size, output_dim=128, input_length=max_length)(text_input)\n",
    "    simplernn_layer = SimpleRNN(units=128, dropout=0.2, recurrent_dropout=0.2)(embedding_layer)\n",
    "\n",
    "    numeric_input = Input(shape=(numeric_input_shape,), name='numeric_input')\n",
    "    numeric_dense = Dense(units=64, activation='relu')(numeric_input)\n",
    "\n",
    "    concatenated = Concatenate()([simplernn_layer, numeric_dense])\n",
    "    dense_layer = Dense(units=64, activation='relu')(concatenated)\n",
    "    output_layer = Dense(units=1, activation='sigmoid')(dense_layer)\n",
    "\n",
    "    model = Model(inputs=[text_input, numeric_input], outputs=output_layer)\n",
    "\n",
    "    model.compile(optimizer='adam', loss='binary_crossentropy', metrics=['accuracy'])\n",
    "\n",
    "    return model\n",
    "\n",
    "def lstm(voc_size, max_length, numeric_input_shape):\n",
    "\n",
    "    text_input = Input(shape=(max_length,), name='text_input')\n",
    "    embedding_layer = Embedding(input_dim=voc_size, output_dim=128, input_length=max_length)(text_input)\n",
    "    lstm_layer = LSTM(units=128, dropout=0.2, recurrent_dropout=0.2)(embedding_layer)\n",
    "\n",
    "    numeric_input = Input(shape=(numeric_input_shape,), name='numeric_input')\n",
    "    numeric_dense = Dense(units=64, activation='relu')(numeric_input)\n",
    "\n",
    "    concatenated = Concatenate()([lstm_layer, numeric_dense])\n",
    "    dense_layer = Dense(units=64, activation='relu')(concatenated)\n",
    "    output_layer = Dense(units=1, activation='sigmoid')(dense_layer)\n",
    "\n",
    "    model = Model(inputs=[text_input, numeric_input], outputs=output_layer)\n",
    "\n",
    "    model.compile(optimizer='adam', loss='binary_crossentropy', metrics=['accuracy'])\n",
    "\n",
    "    return model\n",
    "\n",
    "def gru(voc_size, max_length, numeric_input_shape):\n",
    "\n",
    "    text_input = Input(shape=(max_length,), name='text_input')\n",
    "    embedding_layer = Embedding(input_dim=voc_size, output_dim=128, input_length=max_length)(text_input)\n",
    "    gru_layer = GRU(units=128, dropout=0.2, recurrent_dropout=0.2)(embedding_layer)\n",
    "\n",
    "    numeric_input = Input(shape=(numeric_input_shape,), name='numeric_input')\n",
    "    numeric_dense = Dense(units=64, activation='relu')(numeric_input)\n",
    "\n",
    "    concatenated = Concatenate()([gru_layer, numeric_dense])\n",
    "    dense_layer = Dense(units=64, activation='relu')(concatenated)\n",
    "    output_layer = Dense(units=1, activation='sigmoid')(dense_layer)\n",
    "\n",
    "    model = Model(inputs=[text_input, numeric_input], outputs=output_layer)\n",
    "\n",
    "    model.compile(optimizer='adam', loss='binary_crossentropy', metrics=['accuracy'])\n",
    "\n",
    "    return model\n",
    "\n",
    "\n",
    "def bi_gru(voc_size, max_length, numeric_input_shape):\n",
    "\n",
    "    text_input = Input(shape=(max_length,), name='text_input')\n",
    "    embedding_layer = Embedding(input_dim=voc_size, output_dim=128, input_length=max_length)(text_input)\n",
    "    gru_layer = Bidirectional(GRU(units=128, dropout=0.2, recurrent_dropout=0.2))(embedding_layer)\n",
    "\n",
    "    numeric_input = Input(shape=(numeric_input_shape,), name='numeric_input')\n",
    "    numeric_dense = Dense(units=64, activation='relu')(numeric_input)\n",
    "\n",
    "    concatenated = Concatenate()([gru_layer, numeric_dense])\n",
    "    dense_layer = Dense(units=64, activation='relu')(concatenated)\n",
    "    output_layer = Dense(units=1, activation='sigmoid')(dense_layer)\n",
    "\n",
    "    model = Model(inputs=[text_input, numeric_input], outputs=output_layer)\n",
    "\n",
    "    model.compile(optimizer='adam', loss='binary_crossentropy', metrics=['accuracy'])\n",
    "\n",
    "    return model\n",
    "\n",
    "def bi_lstm(voc_size, max_length, numeric_input_shape):\n",
    "\n",
    "    text_input = Input(shape=(max_length,), name='text_input')\n",
    "    embedding_layer = Embedding(input_dim=voc_size, output_dim=128, input_length=max_length)(text_input)\n",
    "    lstm_layer = Bidirectional(LSTM(units=128, dropout=0.2, recurrent_dropout=0.2))(embedding_layer)\n",
    "\n",
    "    numeric_input = Input(shape=(numeric_input_shape,), name='numeric_input')\n",
    "    numeric_dense = Dense(units=64, activation='relu')(numeric_input)\n",
    "\n",
    "    concatenated = Concatenate()([lstm_layer, numeric_dense])\n",
    "    dense_layer = Dense(units=64, activation='relu')(concatenated)\n",
    "    output_layer = Dense(units=1, activation='sigmoid')(dense_layer)\n",
    "\n",
    "    model = Model(inputs=[text_input, numeric_input], outputs=output_layer)\n",
    "\n",
    "    model.compile(optimizer='adam', loss='binary_crossentropy', metrics=['accuracy'])\n",
    "\n",
    "    return model\n"
   ]
  },
  {
   "cell_type": "code",
   "execution_count": 15,
   "metadata": {
    "id": "N1-eUFDv4EEM"
   },
   "outputs": [],
   "source": [
    "\n",
    "def evaluate_model(model, X_test, y_test):\n",
    "    loss, accuracy = model.evaluate(X_test, y_test)\n",
    "    print(f'Validation Loss: {loss:.4f}')\n",
    "    print(f'Validation Accuracy: {accuracy:.4f}')\n",
    "\n",
    "    predictions = model.predict(X_test)\n",
    "    predicted_classes = np.round(predictions).astype(int).flatten()\n",
    "    true_classes = np.round(np.array(y_test)).astype(int).flatten()\n",
    "\n",
    "    # Get the classification report\n",
    "    report = classification_report(true_classes, predicted_classes, target_names=['Class 0', 'Class 1'], output_dict=True)\n",
    "    print(report)\n",
    "\n",
    "    # Overall metrics\n",
    "    precision = report['weighted avg']['precision']\n",
    "    recall = report['weighted avg']['recall']\n",
    "    f1_score = report['weighted avg']['f1-score']\n",
    "\n",
    "    print(f'Overall Precision: {precision:.4f}')\n",
    "    print(f'Overall Recall: {recall:.4f}')\n",
    "    print(f'Overall F1 Score: {f1_score:.4f}')\n",
    "\n",
    "    conf_matrix = confusion_matrix(true_classes, predicted_classes)\n",
    "    disp = ConfusionMatrixDisplay(confusion_matrix=conf_matrix, display_labels=['Class 0', 'Class 1'])\n",
    "    disp.plot(cmap=plt.cm.Blues)\n",
    "    plt.title('Confusion Matrix')\n",
    "    plt.show()"
   ]
  },
  {
   "cell_type": "markdown",
   "metadata": {},
   "source": [
    "Simple RNN"
   ]
  },
  {
   "cell_type": "code",
   "execution_count": 18,
   "metadata": {
    "colab": {
     "base_uri": "https://localhost:8080/",
     "height": 839
    },
    "id": "2DrhXWAX5q1i",
    "outputId": "cb0ab262-e0a0-4167-f377-d65dc4c2d359"
   },
   "outputs": [
    {
     "name": "stdout",
     "output_type": "stream",
     "text": [
      "Epoch 1/30\n",
      "210/210 [==============================] - 49s 225ms/step - loss: 0.4797 - accuracy: 0.7976 - val_loss: 0.4488 - val_accuracy: 0.8133\n",
      "Epoch 2/30\n",
      "210/210 [==============================] - 37s 178ms/step - loss: 0.4454 - accuracy: 0.8155 - val_loss: 0.4417 - val_accuracy: 0.8163\n",
      "Epoch 3/30\n",
      "210/210 [==============================] - 38s 180ms/step - loss: 0.4409 - accuracy: 0.8179 - val_loss: 0.4389 - val_accuracy: 0.8157\n",
      "Epoch 4/30\n",
      "210/210 [==============================] - 33s 155ms/step - loss: 0.4384 - accuracy: 0.8209 - val_loss: 0.4430 - val_accuracy: 0.8157\n",
      "Epoch 5/30\n",
      "210/210 [==============================] - 34s 161ms/step - loss: 0.4374 - accuracy: 0.8179 - val_loss: 0.4406 - val_accuracy: 0.8148\n",
      "Epoch 6/30\n",
      "210/210 [==============================] - 33s 158ms/step - loss: 0.4408 - accuracy: 0.8197 - val_loss: 0.4413 - val_accuracy: 0.8118\n",
      "131/131 [==============================] - 1s 10ms/step - loss: 0.4383 - accuracy: 0.8122\n",
      "Validation Loss: 0.4383\n",
      "Validation Accuracy: 0.8122\n",
      "131/131 [==============================] - 1s 9ms/step\n",
      "{'Class 0': {'precision': 0.7759139784946236, 'recall': 0.8719188013533108, 'f1-score': 0.8211197086936731, 'support': 2069}, 'Class 1': {'precision': 0.8575268817204301, 'recall': 0.753780718336484, 'f1-score': 0.8023138832997988, 'support': 2116}, 'accuracy': 0.8121863799283154, 'macro avg': {'precision': 0.8167204301075268, 'recall': 0.8128497598448974, 'f1-score': 0.811716795996736, 'support': 4185}, 'weighted avg': {'precision': 0.8171787104482214, 'recall': 0.8121863799283154, 'f1-score': 0.8116111957824573, 'support': 4185}}\n",
      "Overall Precision: 0.8172\n",
      "Overall Recall: 0.8122\n",
      "Overall F1 Score: 0.8116\n"
     ]
    },
    {
     "data": {
      "image/png": "[encoded data removed]",
      "text/plain": [
       "<Figure size 640x480 with 2 Axes>"
      ]
     },
     "metadata": {},
     "output_type": "display_data"
    }
   ],
   "source": [
    "\n",
    "rnn_model = simplernn(voc_size=voc_size, max_length=max_length, numeric_input_shape=numeric_data_shape)\n",
    "early_stopping = EarlyStopping(monitor='val_loss', patience=3, restore_best_weights=True)\n",
    "history = rnn_model.fit([X_train_text, X_train_numeric], y_train, epochs=epoch, batch_size=batch_size, validation_split=0.2,callbacks=[early_stopping])\n",
    "evaluate_model(rnn_model, [X_test_text, X_test_numeric], y_test)\n",
    "\n"
   ]
  },
  {
   "cell_type": "markdown",
   "metadata": {},
   "source": [
    "LSTM"
   ]
  },
  {
   "cell_type": "code",
   "execution_count": 16,
   "metadata": {
    "colab": {
     "base_uri": "https://localhost:8080/",
     "height": 804
    },
    "id": "ME-DLf3p5xU3",
    "outputId": "a8eb8b37-33af-4ca2-caad-b59b38c61ba6"
   },
   "outputs": [
    {
     "name": "stdout",
     "output_type": "stream",
     "text": [
      "Epoch 1/30\n",
      "210/210 [==============================] - 131s 601ms/step - loss: 0.4630 - accuracy: 0.8096 - val_loss: 0.4404 - val_accuracy: 0.8154\n",
      "Epoch 2/30\n",
      "210/210 [==============================] - 122s 582ms/step - loss: 0.4372 - accuracy: 0.8178 - val_loss: 0.4323 - val_accuracy: 0.8172\n",
      "Epoch 3/30\n",
      "210/210 [==============================] - 128s 612ms/step - loss: 0.4270 - accuracy: 0.8248 - val_loss: 0.4431 - val_accuracy: 0.8121\n",
      "Epoch 4/30\n",
      "210/210 [==============================] - 130s 620ms/step - loss: 0.4129 - accuracy: 0.8306 - val_loss: 0.4379 - val_accuracy: 0.8166\n",
      "Epoch 5/30\n",
      "210/210 [==============================] - 122s 583ms/step - loss: 0.4035 - accuracy: 0.8356 - val_loss: 0.4368 - val_accuracy: 0.8163\n",
      "131/131 [==============================] - 6s 44ms/step - loss: 0.4323 - accuracy: 0.8165\n",
      "Validation Loss: 0.4323\n",
      "Validation Accuracy: 0.8165\n",
      "131/131 [==============================] - 7s 46ms/step\n",
      "{'Class 0': {'precision': 0.8064060292039567, 'recall': 0.8274528757854036, 'f1-score': 0.8167938931297709, 'support': 2069}, 'Class 1': {'precision': 0.8268671193016489, 'recall': 0.805765595463138, 'f1-score': 0.8161799904260411, 'support': 2116}, 'accuracy': 0.8164874551971326, 'macro avg': {'precision': 0.8166365742528028, 'recall': 0.8166092356242708, 'f1-score': 0.8164869417779059, 'support': 4185}, 'weighted avg': {'precision': 0.8167514692629093, 'recall': 0.8164874551971326, 'f1-score': 0.8164834945345278, 'support': 4185}}\n",
      "Overall Precision: 0.8168\n",
      "Overall Recall: 0.8165\n",
      "Overall F1 Score: 0.8165\n"
     ]
    },
    {
     "data": {
      "image/png": "[encoded data removed]",
      "text/plain": [
       "<Figure size 640x480 with 2 Axes>"
      ]
     },
     "metadata": {},
     "output_type": "display_data"
    }
   ],
   "source": [
    "\n",
    "lstm_model = lstm(voc_size=voc_size, max_length=max_length, numeric_input_shape=numeric_data_shape)\n",
    "early_stopping = EarlyStopping(monitor='val_loss', patience=3, restore_best_weights=True)\n",
    "history = lstm_model.fit([X_train_text, X_train_numeric], y_train, epochs=epoch, batch_size=batch_size, validation_split=0.2,callbacks=[early_stopping])\n",
    "evaluate_model(lstm_model, [X_test_text, X_test_numeric], y_test)\n"
   ]
  },
  {
   "cell_type": "markdown",
   "metadata": {},
   "source": [
    "GRU"
   ]
  },
  {
   "cell_type": "code",
   "execution_count": 17,
   "metadata": {
    "colab": {
     "base_uri": "https://localhost:8080/",
     "height": 804
    },
    "id": "3lCg9AnR6S94",
    "outputId": "4e407f6a-9ce5-4fb3-a545-4c993afa6685"
   },
   "outputs": [
    {
     "name": "stdout",
     "output_type": "stream",
     "text": [
      "Epoch 1/30\n",
      "210/210 [==============================] - 110s 501ms/step - loss: 0.4594 - accuracy: 0.8116 - val_loss: 0.4386 - val_accuracy: 0.8151\n",
      "Epoch 2/30\n",
      "210/210 [==============================] - 104s 495ms/step - loss: 0.4312 - accuracy: 0.8220 - val_loss: 0.4336 - val_accuracy: 0.8181\n",
      "Epoch 3/30\n",
      "210/210 [==============================] - 106s 507ms/step - loss: 0.4165 - accuracy: 0.8279 - val_loss: 0.4365 - val_accuracy: 0.8163\n",
      "Epoch 4/30\n",
      "210/210 [==============================] - 110s 524ms/step - loss: 0.4073 - accuracy: 0.8330 - val_loss: 0.4470 - val_accuracy: 0.8148\n",
      "Epoch 5/30\n",
      "210/210 [==============================] - 112s 532ms/step - loss: 0.4006 - accuracy: 0.8367 - val_loss: 0.4530 - val_accuracy: 0.8133\n",
      "131/131 [==============================] - 5s 35ms/step - loss: 0.4338 - accuracy: 0.8184\n",
      "Validation Loss: 0.4338\n",
      "Validation Accuracy: 0.8184\n",
      "131/131 [==============================] - 7s 51ms/step\n",
      "{'Class 0': {'precision': 0.7912772585669782, 'recall': 0.8593523441275979, 'f1-score': 0.8239110287303059, 'support': 2069}, 'Class 1': {'precision': 0.8498452012383901, 'recall': 0.7783553875236295, 'f1-score': 0.81253083374445, 'support': 2116}, 'accuracy': 0.8183990442054958, 'macro avg': {'precision': 0.8205612299026841, 'recall': 0.8188538658256137, 'f1-score': 0.8182209312373779, 'support': 4185}, 'weighted avg': {'precision': 0.8208901060443277, 'recall': 0.8183990442054958, 'f1-score': 0.818157028111412, 'support': 4185}}\n",
      "Overall Precision: 0.8209\n",
      "Overall Recall: 0.8184\n",
      "Overall F1 Score: 0.8182\n"
     ]
    },
    {
     "data": {
      "image/png": "[encoded data removed]",
      "text/plain": [
       "<Figure size 640x480 with 2 Axes>"
      ]
     },
     "metadata": {},
     "output_type": "display_data"
    }
   ],
   "source": [
    "\n",
    "gru_model = gru(voc_size=voc_size, max_length=max_length, numeric_input_shape=numeric_data_shape)\n",
    "early_stopping = EarlyStopping(monitor='val_loss', patience=3, restore_best_weights=True)\n",
    "history = gru_model.fit([X_train_text, X_train_numeric], y_train, epochs=epoch, batch_size=batch_size, validation_split=0.2,callbacks=[early_stopping])\n",
    "evaluate_model(gru_model, [X_test_text, X_test_numeric], y_test)\n"
   ]
  },
  {
   "cell_type": "markdown",
   "metadata": {},
   "source": [
    "Bidirectional LSTM"
   ]
  },
  {
   "cell_type": "code",
   "execution_count": 18,
   "metadata": {
    "colab": {
     "base_uri": "https://localhost:8080/",
     "height": 770
    },
    "id": "PSCbnAzo6hBd",
    "outputId": "929fa75c-84af-44d1-ee14-6e8b0194ebe1"
   },
   "outputs": [
    {
     "name": "stdout",
     "output_type": "stream",
     "text": [
      "Epoch 1/30\n",
      "210/210 [==============================] - 228s 1s/step - loss: 0.4406 - accuracy: 0.8244 - val_loss: 0.3843 - val_accuracy: 0.8533\n",
      "Epoch 2/30\n",
      "210/210 [==============================] - 227s 1s/step - loss: 0.2695 - accuracy: 0.8955 - val_loss: 0.3990 - val_accuracy: 0.8447\n",
      "Epoch 3/30\n",
      "210/210 [==============================] - 228s 1s/step - loss: 0.1279 - accuracy: 0.9539 - val_loss: 0.4763 - val_accuracy: 0.8303\n",
      "Epoch 4/30\n",
      "210/210 [==============================] - 227s 1s/step - loss: 0.0537 - accuracy: 0.9825 - val_loss: 0.6721 - val_accuracy: 0.8106\n",
      "131/131 [==============================] - 14s 103ms/step - loss: 0.3749 - accuracy: 0.8545\n",
      "Validation Loss: 0.3749\n",
      "Validation Accuracy: 0.8545\n",
      "131/131 [==============================] - 16s 121ms/step\n",
      "{'Class 0': {'precision': 0.8653653653653653, 'recall': 0.8356694055099082, 'f1-score': 0.8502581755593804, 'support': 2069}, 'Class 1': {'precision': 0.84453589391861, 'recall': 0.8728733459357277, 'f1-score': 0.8584708343016499, 'support': 2116}, 'accuracy': 0.8544802867383513, 'macro avg': {'precision': 0.8549506296419876, 'recall': 0.854271375722818, 'f1-score': 0.8543645049305152, 'support': 4185}, 'weighted avg': {'precision': 0.8548336660627764, 'recall': 0.8544802867383513, 'f1-score': 0.8544106214132974, 'support': 4185}}\n",
      "Overall Precision: 0.8548\n",
      "Overall Recall: 0.8545\n",
      "Overall F1 Score: 0.8544\n"
     ]
    },
    {
     "data": {
      "image/png": "[encoded data removed]",
      "text/plain": [
       "<Figure size 640x480 with 2 Axes>"
      ]
     },
     "metadata": {},
     "output_type": "display_data"
    }
   ],
   "source": [
    "\n",
    "bi_lstm_model = bi_lstm(voc_size=voc_size, max_length=max_length, numeric_input_shape=numeric_data_shape)\n",
    "early_stopping = EarlyStopping(monitor='val_loss', patience=3, restore_best_weights=True)\n",
    "history = bi_lstm_model.fit([X_train_text, X_train_numeric], y_train, epochs=epoch, batch_size=batch_size, validation_split=0.2,callbacks=[early_stopping])\n",
    "evaluate_model(bi_lstm_model, [X_test_text, X_test_numeric], y_test)\n"
   ]
  },
  {
   "cell_type": "code",
   "execution_count": null,
   "metadata": {
    "id": "U2FOknDAqL6w"
   },
   "outputs": [],
   "source": []
  }
 ],
 "metadata": {
  "accelerator": "GPU",
  "colab": {
   "gpuType": "T4",
   "provenance": []
  },
  "kernelspec": {
   "display_name": "Python 3 (ipykernel)",
   "language": "python",
   "name": "python3"
  },
  "language_info": {
   "codemirror_mode": {
    "name": "ipython",
    "version": 3
   },
   "file_extension": ".py",
   "mimetype": "text/x-python",
   "name": "python",
   "nbconvert_exporter": "python",
   "pygments_lexer": "ipython3",
   "version": "3.10.9"
  }
 },
 "nbformat": 4,
 "nbformat_minor": 1
}
